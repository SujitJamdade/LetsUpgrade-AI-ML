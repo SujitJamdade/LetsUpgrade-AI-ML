{
 "cells": [
  {
   "cell_type": "code",
   "execution_count": 16,
   "metadata": {},
   "outputs": [],
   "source": [
    "import pandas as pd\n",
    "import numpy as np\n",
    "import matplotlib.pyplot as plt\n",
    "dataset1=pd.read_csv(\"general_data.csv\")"
   ]
  },
  {
   "cell_type": "code",
   "execution_count": 17,
   "metadata": {},
   "outputs": [
    {
     "name": "stdout",
     "output_type": "stream",
     "text": [
      "   Age Attrition     BusinessTravel              Department  DistanceFromHome  \\\n",
      "0   51        No      Travel_Rarely                   Sales                 6   \n",
      "1   31       Yes  Travel_Frequently  Research & Development                10   \n",
      "2   32        No  Travel_Frequently  Research & Development                17   \n",
      "3   38        No         Non-Travel  Research & Development                 2   \n",
      "4   32        No      Travel_Rarely  Research & Development                10   \n",
      "\n",
      "   Education EducationField  EmployeeCount  EmployeeID  Gender  ...  \\\n",
      "0          2  Life Sciences              1           1  Female  ...   \n",
      "1          1  Life Sciences              1           2  Female  ...   \n",
      "2          4          Other              1           3    Male  ...   \n",
      "3          5  Life Sciences              1           4    Male  ...   \n",
      "4          1        Medical              1           5    Male  ...   \n",
      "\n",
      "   NumCompaniesWorked Over18 PercentSalaryHike  StandardHours  \\\n",
      "0                 1.0      Y                11              8   \n",
      "1                 0.0      Y                23              8   \n",
      "2                 1.0      Y                15              8   \n",
      "3                 3.0      Y                11              8   \n",
      "4                 4.0      Y                12              8   \n",
      "\n",
      "   StockOptionLevel TotalWorkingYears  TrainingTimesLastYear  YearsAtCompany  \\\n",
      "0                 0               1.0                      6               1   \n",
      "1                 1               6.0                      3               5   \n",
      "2                 3               5.0                      2               5   \n",
      "3                 3              13.0                      5               8   \n",
      "4                 2               9.0                      2               6   \n",
      "\n",
      "   YearsSinceLastPromotion  YearsWithCurrManager  \n",
      "0                        0                     0  \n",
      "1                        1                     4  \n",
      "2                        0                     3  \n",
      "3                        7                     5  \n",
      "4                        0                     4  \n",
      "\n",
      "[5 rows x 24 columns]\n"
     ]
    }
   ],
   "source": [
    "print(dataset1.head())"
   ]
  },
  {
   "cell_type": "code",
   "execution_count": 18,
   "metadata": {},
   "outputs": [
    {
     "name": "stdout",
     "output_type": "stream",
     "text": [
      "Index(['Age', 'Attrition', 'BusinessTravel', 'Department', 'DistanceFromHome',\n",
      "       'Education', 'EducationField', 'EmployeeCount', 'EmployeeID', 'Gender',\n",
      "       'JobLevel', 'JobRole', 'MaritalStatus', 'MonthlyIncome',\n",
      "       'NumCompaniesWorked', 'Over18', 'PercentSalaryHike', 'StandardHours',\n",
      "       'StockOptionLevel', 'TotalWorkingYears', 'TrainingTimesLastYear',\n",
      "       'YearsAtCompany', 'YearsSinceLastPromotion', 'YearsWithCurrManager'],\n",
      "      dtype='object')\n"
     ]
    }
   ],
   "source": [
    "print(dataset1.columns)"
   ]
  },
  {
   "cell_type": "code",
   "execution_count": 19,
   "metadata": {},
   "outputs": [
    {
     "name": "stdout",
     "output_type": "stream",
     "text": [
      "        Age  Attrition  BusinessTravel  Department  DistanceFromHome  \\\n",
      "0     False      False           False       False             False   \n",
      "1     False      False           False       False             False   \n",
      "2     False      False           False       False             False   \n",
      "3     False      False           False       False             False   \n",
      "4     False      False           False       False             False   \n",
      "5     False      False           False       False             False   \n",
      "6     False      False           False       False             False   \n",
      "7     False      False           False       False             False   \n",
      "8     False      False           False       False             False   \n",
      "9     False      False           False       False             False   \n",
      "10    False      False           False       False             False   \n",
      "11    False      False           False       False             False   \n",
      "12    False      False           False       False             False   \n",
      "13    False      False           False       False             False   \n",
      "14    False      False           False       False             False   \n",
      "15    False      False           False       False             False   \n",
      "16    False      False           False       False             False   \n",
      "17    False      False           False       False             False   \n",
      "18    False      False           False       False             False   \n",
      "19    False      False           False       False             False   \n",
      "20    False      False           False       False             False   \n",
      "21    False      False           False       False             False   \n",
      "22    False      False           False       False             False   \n",
      "23    False      False           False       False             False   \n",
      "24    False      False           False       False             False   \n",
      "25    False      False           False       False             False   \n",
      "26    False      False           False       False             False   \n",
      "27    False      False           False       False             False   \n",
      "28    False      False           False       False             False   \n",
      "29    False      False           False       False             False   \n",
      "...     ...        ...             ...         ...               ...   \n",
      "4380  False      False           False       False             False   \n",
      "4381  False      False           False       False             False   \n",
      "4382  False      False           False       False             False   \n",
      "4383  False      False           False       False             False   \n",
      "4384  False      False           False       False             False   \n",
      "4385  False      False           False       False             False   \n",
      "4386  False      False           False       False             False   \n",
      "4387  False      False           False       False             False   \n",
      "4388  False      False           False       False             False   \n",
      "4389  False      False           False       False             False   \n",
      "4390  False      False           False       False             False   \n",
      "4391  False      False           False       False             False   \n",
      "4392  False      False           False       False             False   \n",
      "4393  False      False           False       False             False   \n",
      "4394  False      False           False       False             False   \n",
      "4395  False      False           False       False             False   \n",
      "4396  False      False           False       False             False   \n",
      "4397  False      False           False       False             False   \n",
      "4398  False      False           False       False             False   \n",
      "4399  False      False           False       False             False   \n",
      "4400  False      False           False       False             False   \n",
      "4401  False      False           False       False             False   \n",
      "4402  False      False           False       False             False   \n",
      "4403  False      False           False       False             False   \n",
      "4404  False      False           False       False             False   \n",
      "4405  False      False           False       False             False   \n",
      "4406  False      False           False       False             False   \n",
      "4407  False      False           False       False             False   \n",
      "4408  False      False           False       False             False   \n",
      "4409  False      False           False       False             False   \n",
      "\n",
      "      Education  EducationField  EmployeeCount  EmployeeID  Gender  ...  \\\n",
      "0         False           False          False       False   False  ...   \n",
      "1         False           False          False       False   False  ...   \n",
      "2         False           False          False       False   False  ...   \n",
      "3         False           False          False       False   False  ...   \n",
      "4         False           False          False       False   False  ...   \n",
      "5         False           False          False       False   False  ...   \n",
      "6         False           False          False       False   False  ...   \n",
      "7         False           False          False       False   False  ...   \n",
      "8         False           False          False       False   False  ...   \n",
      "9         False           False          False       False   False  ...   \n",
      "10        False           False          False       False   False  ...   \n",
      "11        False           False          False       False   False  ...   \n",
      "12        False           False          False       False   False  ...   \n",
      "13        False           False          False       False   False  ...   \n",
      "14        False           False          False       False   False  ...   \n",
      "15        False           False          False       False   False  ...   \n",
      "16        False           False          False       False   False  ...   \n",
      "17        False           False          False       False   False  ...   \n",
      "18        False           False          False       False   False  ...   \n",
      "19        False           False          False       False   False  ...   \n",
      "20        False           False          False       False   False  ...   \n",
      "21        False           False          False       False   False  ...   \n",
      "22        False           False          False       False   False  ...   \n",
      "23        False           False          False       False   False  ...   \n",
      "24        False           False          False       False   False  ...   \n",
      "25        False           False          False       False   False  ...   \n",
      "26        False           False          False       False   False  ...   \n",
      "27        False           False          False       False   False  ...   \n",
      "28        False           False          False       False   False  ...   \n",
      "29        False           False          False       False   False  ...   \n",
      "...         ...             ...            ...         ...     ...  ...   \n",
      "4380      False           False          False       False   False  ...   \n",
      "4381      False           False          False       False   False  ...   \n",
      "4382      False           False          False       False   False  ...   \n",
      "4383      False           False          False       False   False  ...   \n",
      "4384      False           False          False       False   False  ...   \n",
      "4385      False           False          False       False   False  ...   \n",
      "4386      False           False          False       False   False  ...   \n",
      "4387      False           False          False       False   False  ...   \n",
      "4388      False           False          False       False   False  ...   \n",
      "4389      False           False          False       False   False  ...   \n",
      "4390      False           False          False       False   False  ...   \n",
      "4391      False           False          False       False   False  ...   \n",
      "4392      False           False          False       False   False  ...   \n",
      "4393      False           False          False       False   False  ...   \n",
      "4394      False           False          False       False   False  ...   \n",
      "4395      False           False          False       False   False  ...   \n",
      "4396      False           False          False       False   False  ...   \n",
      "4397      False           False          False       False   False  ...   \n",
      "4398      False           False          False       False   False  ...   \n",
      "4399      False           False          False       False   False  ...   \n",
      "4400      False           False          False       False   False  ...   \n",
      "4401      False           False          False       False   False  ...   \n",
      "4402      False           False          False       False   False  ...   \n",
      "4403      False           False          False       False   False  ...   \n",
      "4404      False           False          False       False   False  ...   \n",
      "4405      False           False          False       False   False  ...   \n",
      "4406      False           False          False       False   False  ...   \n",
      "4407      False           False          False       False   False  ...   \n",
      "4408      False           False          False       False   False  ...   \n",
      "4409      False           False          False       False   False  ...   \n",
      "\n",
      "      NumCompaniesWorked  Over18  PercentSalaryHike  StandardHours  \\\n",
      "0                  False   False              False          False   \n",
      "1                  False   False              False          False   \n",
      "2                  False   False              False          False   \n",
      "3                  False   False              False          False   \n",
      "4                  False   False              False          False   \n",
      "5                  False   False              False          False   \n",
      "6                  False   False              False          False   \n",
      "7                  False   False              False          False   \n",
      "8                  False   False              False          False   \n",
      "9                  False   False              False          False   \n",
      "10                 False   False              False          False   \n",
      "11                 False   False              False          False   \n",
      "12                 False   False              False          False   \n",
      "13                 False   False              False          False   \n",
      "14                 False   False              False          False   \n",
      "15                 False   False              False          False   \n",
      "16                 False   False              False          False   \n",
      "17                 False   False              False          False   \n",
      "18                 False   False              False          False   \n",
      "19                 False   False              False          False   \n",
      "20                 False   False              False          False   \n",
      "21                 False   False              False          False   \n",
      "22                 False   False              False          False   \n",
      "23                 False   False              False          False   \n",
      "24                 False   False              False          False   \n",
      "25                 False   False              False          False   \n",
      "26                 False   False              False          False   \n",
      "27                 False   False              False          False   \n",
      "28                 False   False              False          False   \n",
      "29                 False   False              False          False   \n",
      "...                  ...     ...                ...            ...   \n",
      "4380               False   False              False          False   \n",
      "4381               False   False              False          False   \n",
      "4382               False   False              False          False   \n",
      "4383               False   False              False          False   \n",
      "4384               False   False              False          False   \n",
      "4385               False   False              False          False   \n",
      "4386               False   False              False          False   \n",
      "4387               False   False              False          False   \n",
      "4388               False   False              False          False   \n",
      "4389               False   False              False          False   \n",
      "4390               False   False              False          False   \n",
      "4391               False   False              False          False   \n",
      "4392               False   False              False          False   \n",
      "4393               False   False              False          False   \n",
      "4394               False   False              False          False   \n",
      "4395                True   False              False          False   \n",
      "4396               False   False              False          False   \n",
      "4397               False   False              False          False   \n",
      "4398               False   False              False          False   \n",
      "4399               False   False              False          False   \n",
      "4400               False   False              False          False   \n",
      "4401               False   False              False          False   \n",
      "4402               False   False              False          False   \n",
      "4403               False   False              False          False   \n",
      "4404               False   False              False          False   \n",
      "4405               False   False              False          False   \n",
      "4406               False   False              False          False   \n",
      "4407               False   False              False          False   \n",
      "4408               False   False              False          False   \n",
      "4409               False   False              False          False   \n",
      "\n",
      "      StockOptionLevel  TotalWorkingYears  TrainingTimesLastYear  \\\n",
      "0                False              False                  False   \n",
      "1                False              False                  False   \n",
      "2                False              False                  False   \n",
      "3                False              False                  False   \n",
      "4                False              False                  False   \n",
      "5                False              False                  False   \n",
      "6                False              False                  False   \n",
      "7                False              False                  False   \n",
      "8                False              False                  False   \n",
      "9                False              False                  False   \n",
      "10               False              False                  False   \n",
      "11               False              False                  False   \n",
      "12               False              False                  False   \n",
      "13               False              False                  False   \n",
      "14               False              False                  False   \n",
      "15               False              False                  False   \n",
      "16               False              False                  False   \n",
      "17               False              False                  False   \n",
      "18               False              False                  False   \n",
      "19               False              False                  False   \n",
      "20               False              False                  False   \n",
      "21               False              False                  False   \n",
      "22               False              False                  False   \n",
      "23               False               True                  False   \n",
      "24               False              False                  False   \n",
      "25               False              False                  False   \n",
      "26               False              False                  False   \n",
      "27               False              False                  False   \n",
      "28               False              False                  False   \n",
      "29               False              False                  False   \n",
      "...                ...                ...                    ...   \n",
      "4380             False              False                  False   \n",
      "4381             False              False                  False   \n",
      "4382             False              False                  False   \n",
      "4383             False              False                  False   \n",
      "4384             False              False                  False   \n",
      "4385             False              False                  False   \n",
      "4386             False              False                  False   \n",
      "4387             False              False                  False   \n",
      "4388             False              False                  False   \n",
      "4389             False              False                  False   \n",
      "4390             False              False                  False   \n",
      "4391             False              False                  False   \n",
      "4392             False              False                  False   \n",
      "4393             False              False                  False   \n",
      "4394             False              False                  False   \n",
      "4395             False              False                  False   \n",
      "4396             False              False                  False   \n",
      "4397             False              False                  False   \n",
      "4398             False              False                  False   \n",
      "4399             False              False                  False   \n",
      "4400             False              False                  False   \n",
      "4401             False              False                  False   \n",
      "4402             False              False                  False   \n",
      "4403             False              False                  False   \n",
      "4404             False              False                  False   \n",
      "4405             False              False                  False   \n",
      "4406             False              False                  False   \n",
      "4407             False              False                  False   \n",
      "4408             False              False                  False   \n",
      "4409             False               True                  False   \n",
      "\n",
      "      YearsAtCompany  YearsSinceLastPromotion  YearsWithCurrManager  \n",
      "0              False                    False                 False  \n",
      "1              False                    False                 False  \n",
      "2              False                    False                 False  \n",
      "3              False                    False                 False  \n",
      "4              False                    False                 False  \n",
      "5              False                    False                 False  \n",
      "6              False                    False                 False  \n",
      "7              False                    False                 False  \n",
      "8              False                    False                 False  \n",
      "9              False                    False                 False  \n",
      "10             False                    False                 False  \n",
      "11             False                    False                 False  \n",
      "12             False                    False                 False  \n",
      "13             False                    False                 False  \n",
      "14             False                    False                 False  \n",
      "15             False                    False                 False  \n",
      "16             False                    False                 False  \n",
      "17             False                    False                 False  \n",
      "18             False                    False                 False  \n",
      "19             False                    False                 False  \n",
      "20             False                    False                 False  \n",
      "21             False                    False                 False  \n",
      "22             False                    False                 False  \n",
      "23             False                    False                 False  \n",
      "24             False                    False                 False  \n",
      "25             False                    False                 False  \n",
      "26             False                    False                 False  \n",
      "27             False                    False                 False  \n",
      "28             False                    False                 False  \n",
      "29             False                    False                 False  \n",
      "...              ...                      ...                   ...  \n",
      "4380           False                    False                 False  \n",
      "4381           False                    False                 False  \n",
      "4382           False                    False                 False  \n",
      "4383           False                    False                 False  \n",
      "4384           False                    False                 False  \n",
      "4385           False                    False                 False  \n",
      "4386           False                    False                 False  \n",
      "4387           False                    False                 False  \n",
      "4388           False                    False                 False  \n",
      "4389           False                    False                 False  \n",
      "4390           False                    False                 False  \n",
      "4391           False                    False                 False  \n",
      "4392           False                    False                 False  \n",
      "4393           False                    False                 False  \n",
      "4394           False                    False                 False  \n",
      "4395           False                    False                 False  \n",
      "4396           False                    False                 False  \n",
      "4397           False                    False                 False  \n",
      "4398           False                    False                 False  \n",
      "4399           False                    False                 False  \n",
      "4400           False                    False                 False  \n",
      "4401           False                    False                 False  \n",
      "4402           False                    False                 False  \n",
      "4403           False                    False                 False  \n",
      "4404           False                    False                 False  \n",
      "4405           False                    False                 False  \n",
      "4406           False                    False                 False  \n",
      "4407           False                    False                 False  \n",
      "4408           False                    False                 False  \n",
      "4409           False                    False                 False  \n",
      "\n",
      "[4410 rows x 24 columns]\n"
     ]
    }
   ],
   "source": [
    "print(dataset1.isnull())"
   ]
  },
  {
   "cell_type": "code",
   "execution_count": 20,
   "metadata": {},
   "outputs": [
    {
     "name": "stdout",
     "output_type": "stream",
     "text": [
      "               Age  DistanceFromHome    Education  MonthlyIncome  \\\n",
      "count  4410.000000       4410.000000  4410.000000    4410.000000   \n",
      "mean     36.923810          9.192517     2.912925   65029.312925   \n",
      "std       9.133301          8.105026     1.023933   47068.888559   \n",
      "min      18.000000          1.000000     1.000000   10090.000000   \n",
      "25%      30.000000          2.000000     2.000000   29110.000000   \n",
      "50%      36.000000          7.000000     3.000000   49190.000000   \n",
      "75%      43.000000         14.000000     4.000000   83800.000000   \n",
      "max      60.000000         29.000000     5.000000  199990.000000   \n",
      "\n",
      "       NumCompaniesWorked  PercentSalaryHike  TotalWorkingYears  \\\n",
      "count         4391.000000        4410.000000        4401.000000   \n",
      "mean             2.694830          15.209524          11.279936   \n",
      "std              2.498887           3.659108           7.782222   \n",
      "min              0.000000          11.000000           0.000000   \n",
      "25%              1.000000          12.000000           6.000000   \n",
      "50%              2.000000          14.000000          10.000000   \n",
      "75%              4.000000          18.000000          15.000000   \n",
      "max              9.000000          25.000000          40.000000   \n",
      "\n",
      "       TrainingTimesLastYear  YearsAtCompany  YearsSinceLastPromotion  \\\n",
      "count            4410.000000     4410.000000              4410.000000   \n",
      "mean                2.799320        7.008163                 2.187755   \n",
      "std                 1.288978        6.125135                 3.221699   \n",
      "min                 0.000000        0.000000                 0.000000   \n",
      "25%                 2.000000        3.000000                 0.000000   \n",
      "50%                 3.000000        5.000000                 1.000000   \n",
      "75%                 3.000000        9.000000                 3.000000   \n",
      "max                 6.000000       40.000000                15.000000   \n",
      "\n",
      "       YearsWithCurrManager  \n",
      "count           4410.000000  \n",
      "mean               4.123129  \n",
      "std                3.567327  \n",
      "min                0.000000  \n",
      "25%                2.000000  \n",
      "50%                3.000000  \n",
      "75%                7.000000  \n",
      "max               17.000000  \n"
     ]
    }
   ],
   "source": [
    "dataset3=dataset1[['Age','DistanceFromHome','Education','MonthlyIncome',\n",
    "'NumCompaniesWorked', 'PercentSalaryHike','TotalWorkingYears', 'TrainingTimesLastYear',\n",
    "'YearsAtCompany','YearsSinceLastPromotion', 'YearsWithCurrManager']].describe()\n",
    "print(dataset3)"
   ]
  },
  {
   "cell_type": "code",
   "execution_count": 21,
   "metadata": {},
   "outputs": [
    {
     "name": "stdout",
     "output_type": "stream",
     "text": [
      "Age                           36.0\n",
      "DistanceFromHome               7.0\n",
      "Education                      3.0\n",
      "MonthlyIncome              49190.0\n",
      "NumCompaniesWorked             2.0\n",
      "PercentSalaryHike             14.0\n",
      "TotalWorkingYears             10.0\n",
      "TrainingTimesLastYear          3.0\n",
      "YearsAtCompany                 5.0\n",
      "YearsSinceLastPromotion        1.0\n",
      "YearsWithCurrManager           3.0\n",
      "dtype: float64\n"
     ]
    }
   ],
   "source": [
    "dataset3=dataset1[['Age','DistanceFromHome','Education','MonthlyIncome',\n",
    "'NumCompaniesWorked', 'PercentSalaryHike','TotalWorkingYears', 'TrainingTimesLastYear',\n",
    "'YearsAtCompany','YearsSinceLastPromotion', 'YearsWithCurrManager']].median()\n",
    "print(dataset3)"
   ]
  },
  {
   "cell_type": "code",
   "execution_count": 22,
   "metadata": {},
   "outputs": [
    {
     "name": "stdout",
     "output_type": "stream",
     "text": [
      "   Age  DistanceFromHome  Education  MonthlyIncome  NumCompaniesWorked  \\\n",
      "0   35                 2          3          23420                 1.0   \n",
      "\n",
      "   PercentSalaryHike  TotalWorkingYears  TrainingTimesLastYear  \\\n",
      "0                 11               10.0                      2   \n",
      "\n",
      "   YearsAtCompany  YearsSinceLastPromotion  YearsWithCurrManager  \n",
      "0               5                        0                     2  \n"
     ]
    }
   ],
   "source": [
    "dataset3=dataset1[['Age','DistanceFromHome','Education','MonthlyIncome',\n",
    "'NumCompaniesWorked', 'PercentSalaryHike','TotalWorkingYears', 'TrainingTimesLastYear',\n",
    "'YearsAtCompany','YearsSinceLastPromotion', 'YearsWithCurrManager']].mode()\n",
    "print(dataset3)"
   ]
  },
  {
   "cell_type": "code",
   "execution_count": 23,
   "metadata": {},
   "outputs": [
    {
     "name": "stdout",
     "output_type": "stream",
     "text": [
      "Age                        0.413005\n",
      "DistanceFromHome           0.957466\n",
      "Education                 -0.289484\n",
      "MonthlyIncome              1.368884\n",
      "NumCompaniesWorked         1.026767\n",
      "PercentSalaryHike          0.820569\n",
      "TotalWorkingYears          1.116832\n",
      "TrainingTimesLastYear      0.552748\n",
      "YearsAtCompany             1.763328\n",
      "YearsSinceLastPromotion    1.982939\n",
      "YearsWithCurrManager       0.832884\n",
      "dtype: float64\n"
     ]
    }
   ],
   "source": [
    "dataset3=dataset1[['Age','DistanceFromHome','Education','MonthlyIncome',\n",
    "'NumCompaniesWorked', 'PercentSalaryHike','TotalWorkingYears', 'TrainingTimesLastYear',\n",
    "'YearsAtCompany','YearsSinceLastPromotion', 'YearsWithCurrManager']].skew()\n",
    "print(dataset3)"
   ]
  },
  {
   "cell_type": "code",
   "execution_count": 24,
   "metadata": {},
   "outputs": [
    {
     "name": "stdout",
     "output_type": "stream",
     "text": [
      "Age                       -0.405951\n",
      "DistanceFromHome          -0.227045\n",
      "Education                 -0.560569\n",
      "MonthlyIncome              1.000232\n",
      "NumCompaniesWorked         0.007287\n",
      "PercentSalaryHike         -0.302638\n",
      "TotalWorkingYears          0.912936\n",
      "TrainingTimesLastYear      0.491149\n",
      "YearsAtCompany             3.923864\n",
      "YearsSinceLastPromotion    3.601761\n",
      "YearsWithCurrManager       0.167949\n",
      "dtype: float64\n"
     ]
    }
   ],
   "source": [
    "dataset3=dataset1[['Age','DistanceFromHome','Education','MonthlyIncome',\n",
    "'NumCompaniesWorked', 'PercentSalaryHike','TotalWorkingYears', 'TrainingTimesLastYear',\n",
    "'YearsAtCompany','YearsSinceLastPromotion', 'YearsWithCurrManager']].kurt()\n",
    "print(dataset3)"
   ]
  },
  {
   "cell_type": "code",
   "execution_count": 25,
   "metadata": {},
   "outputs": [
    {
     "name": "stdout",
     "output_type": "stream",
     "text": [
      "0       51\n",
      "1       31\n",
      "2       32\n",
      "3       38\n",
      "4       32\n",
      "5       46\n",
      "6       28\n",
      "7       29\n",
      "8       31\n",
      "9       25\n",
      "10      45\n",
      "11      36\n",
      "12      55\n",
      "13      47\n",
      "14      28\n",
      "15      37\n",
      "16      21\n",
      "17      37\n",
      "18      35\n",
      "19      38\n",
      "20      26\n",
      "21      50\n",
      "22      53\n",
      "23      42\n",
      "24      29\n",
      "25      55\n",
      "26      26\n",
      "27      37\n",
      "28      44\n",
      "29      38\n",
      "        ..\n",
      "4380    35\n",
      "4381    29\n",
      "4382    52\n",
      "4383    42\n",
      "4384    59\n",
      "4385    50\n",
      "4386    33\n",
      "4387    43\n",
      "4388    33\n",
      "4389    52\n",
      "4390    32\n",
      "4391    32\n",
      "4392    39\n",
      "4393    32\n",
      "4394    41\n",
      "4395    40\n",
      "4396    45\n",
      "4397    31\n",
      "4398    33\n",
      "4399    34\n",
      "4400    37\n",
      "4401    45\n",
      "4402    37\n",
      "4403    39\n",
      "4404    29\n",
      "4405    42\n",
      "4406    29\n",
      "4407    25\n",
      "4408    42\n",
      "4409    40\n",
      "Name: Age, Length: 4410, dtype: int64\n"
     ]
    }
   ],
   "source": [
    "box_plot=dataset1.Age\n",
    "print(box_plot)"
   ]
  },
  {
   "cell_type": "code",
   "execution_count": 26,
   "metadata": {},
   "outputs": [
    {
     "name": "stdout",
     "output_type": "stream",
     "text": [
      "{'whiskers': [<matplotlib.lines.Line2D object at 0x000002875B902E10>, <matplotlib.lines.Line2D object at 0x000002875BB12668>], 'caps': [<matplotlib.lines.Line2D object at 0x000002875BB129B0>, <matplotlib.lines.Line2D object at 0x000002875BB12CF8>], 'boxes': [<matplotlib.lines.Line2D object at 0x000002875B902EF0>], 'medians': [<matplotlib.lines.Line2D object at 0x000002875BB12DD8>], 'fliers': [<matplotlib.lines.Line2D object at 0x000002875BB213C8>], 'means': []}\n"
     ]
    },
    {
     "data": {
      "image/png": "[encoded data removed]",
      "text/plain": [
       "<Figure size 432x288 with 1 Axes>"
      ]
     },
     "metadata": {
      "needs_background": "light"
     },
     "output_type": "display_data"
    }
   ],
   "source": [
    "print(plt.boxplot(box_plot))"
   ]
  },
  {
   "cell_type": "code",
   "execution_count": 27,
   "metadata": {},
   "outputs": [
    {
     "name": "stdout",
     "output_type": "stream",
     "text": [
      "{'whiskers': [<matplotlib.lines.Line2D object at 0x000002875BA17E10>, <matplotlib.lines.Line2D object at 0x000002875BA22668>], 'caps': [<matplotlib.lines.Line2D object at 0x000002875BA229B0>, <matplotlib.lines.Line2D object at 0x000002875BA22CF8>], 'boxes': [<matplotlib.lines.Line2D object at 0x000002875BA17EF0>], 'medians': [<matplotlib.lines.Line2D object at 0x000002875BA22DD8>], 'fliers': [<matplotlib.lines.Line2D object at 0x000002875BA433C8>], 'means': []}\n"
     ]
    },
    {
     "data": {
      "image/png": "[encoded data removed]",
      "text/plain": [
       "<Figure size 432x288 with 1 Axes>"
      ]
     },
     "metadata": {
      "needs_background": "light"
     },
     "output_type": "display_data"
    }
   ],
   "source": [
    "box_plot=dataset1.MonthlyIncome\n",
    "print(plt.boxplot(box_plot))"
   ]
  },
  {
   "cell_type": "code",
   "execution_count": 28,
   "metadata": {},
   "outputs": [
    {
     "name": "stdout",
     "output_type": "stream",
     "text": [
      "{'whiskers': [<matplotlib.lines.Line2D object at 0x000002875C410E10>, <matplotlib.lines.Line2D object at 0x000002875C41E710>], 'caps': [<matplotlib.lines.Line2D object at 0x000002875C41EA58>, <matplotlib.lines.Line2D object at 0x000002875C41EDA0>], 'boxes': [<matplotlib.lines.Line2D object at 0x000002875C410F98>], 'medians': [<matplotlib.lines.Line2D object at 0x000002875C41EE80>], 'fliers': [<matplotlib.lines.Line2D object at 0x000002875BC21470>], 'means': []}\n"
     ]
    },
    {
     "data": {
      "image/png": "[encoded data removed]",
      "text/plain": [
       "<Figure size 432x288 with 1 Axes>"
      ]
     },
     "metadata": {
      "needs_background": "light"
     },
     "output_type": "display_data"
    }
   ],
   "source": [
    "box_plot=dataset1.YearsAtCompany\n",
    "print(plt.boxplot(box_plot))"
   ]
  },
  {
   "cell_type": "code",
   "execution_count": null,
   "metadata": {},
   "outputs": [],
   "source": []
  },
  {
   "cell_type": "code",
   "execution_count": null,
   "metadata": {},
   "outputs": [],
   "source": []
  }
 ],
 "metadata": {
  "kernelspec": {
   "display_name": "Python 3",
   "language": "python",
   "name": "python3"
  },
  "language_info": {
   "codemirror_mode": {
    "name": "ipython",
    "version": 3
   },
   "file_extension": ".py",
   "mimetype": "text/x-python",
   "name": "python",
   "nbconvert_exporter": "python",
   "pygments_lexer": "ipython3",
   "version": "3.7.3"
  }
 },
 "nbformat": 4,
 "nbformat_minor": 2
}
